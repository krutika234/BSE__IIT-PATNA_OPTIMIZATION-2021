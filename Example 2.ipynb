{
 "cells": [
  {
   "cell_type": "code",
   "execution_count": 2,
   "metadata": {
    "colab": {
     "base_uri": "https://localhost:8080/",
     "height": 306
    },
    "colab_type": "code",
    "id": "7oGtS_v6cqlK",
    "outputId": "2cb279f1-8f33-4a79-d085-7a8cd2e8eeea"
   },
   "outputs": [
    {
     "name": "stdout",
     "output_type": "stream",
     "text": [
      "Requirement already satisfied: pulp in c:\\programdata\\anaconda3\\lib\\site-packages (2.3)\n",
      "Requirement already satisfied: amply>=0.1.2 in c:\\programdata\\anaconda3\\lib\\site-packages (from pulp) (0.1.2)\n",
      "Requirement already satisfied: pyparsing in c:\\programdata\\anaconda3\\lib\\site-packages (from amply>=0.1.2->pulp) (2.3.0)\n",
      "Requirement already satisfied: docutils>=0.3 in c:\\programdata\\anaconda3\\lib\\site-packages (from amply>=0.1.2->pulp) (0.14)\n"
     ]
    },
    {
     "name": "stderr",
     "output_type": "stream",
     "text": [
      "WARNING: pip is being invoked by an old script wrapper. This will fail in a future version of pip.\n",
      "Please see https://github.com/pypa/pip/issues/5599 for advice on fixing the underlying issue.\n",
      "To avoid this problem you can invoke Python with '-m pip' instead of running pip directly.\n",
      "WARNING: You are using pip version 20.2.1; however, version 20.2.2 is available.\n",
      "You should consider upgrading via the 'C:\\ProgramData\\Anaconda3\\python.exe -m pip install --upgrade pip' command.\n"
     ]
    }
   ],
   "source": [
    "%matplotlib inline\n",
    "# -*- coding: utf-8 -*-\n",
    "\"\"\"\n",
    "Created on Thu Aug  6 22:28:55 2020\n",
    "\n",
    "@author: Krutika Verma\n",
    "\"\"\"\n",
    "# pulp is one such library which is used for the optimization of linear programming\n",
    "# import the library pulp \n",
    "!pip install pulp\n",
    "import pulp as p \n",
    "import matplotlib.pyplot as plt #it is used for creating scatter line bars, charts, figure, scatter plots etc.\n",
    "import numpy as np # a whole-some package for performing basic scientific operations "
   ]
  },
  {
   "cell_type": "markdown",
   "metadata": {
    "colab_type": "text",
    "id": "kpV1X6WsdVBs"
   },
   "source": [
    "##### Brief explanation on working of the functions\n",
    "######  First importing the library as p\n",
    "######  LpProblem is a function defined in the pulp, having two parameters name and declaration of maximize/minimizing of function\n",
    "######  LpVariable hold the variables of the objective functions. lower and upper bound of a variable can be defined, if not defined then default value will be taken\n",
    "######   Lp_prob represents the objective function in terms of defined variables \n",
    "###### It holds all informtaion regarding variables and the problem \n",
    "###### using + sign will store the variables and its coefficients in there respective slots  "
   ]
  },
  {
   "cell_type": "markdown",
   "metadata": {
    "colab_type": "text",
    "id": "Wc3Tha48dh_6"
   },
   "source": [
    "# Problem 1 \n",
    "**Minimize** :  $Z = 3x + 5y$\n",
    "\n",
    "**st:**\n",
    " \n",
    " $2x + 3y >= 12$\n",
    "\n",
    " $-x + y <= 3$\n",
    "\n",
    " $x >= 4$\n",
    "\n",
    " $y <= 3$\n",
    "\n",
    " $x, y >= 0$\n"
   ]
  },
  {
   "cell_type": "code",
   "execution_count": 3,
   "metadata": {
    "colab": {},
    "colab_type": "code",
    "id": "hmSmdj7adoty"
   },
   "outputs": [
    {
     "name": "stdout",
     "output_type": "stream",
     "text": [
      "Problem:\n",
      "MINIMIZE\n",
      "3*x + 5*y + 0\n",
      "SUBJECT TO\n",
      "_C1: 2 x + 3 y >= 12\n",
      "\n",
      "_C2: - x + y <= 3\n",
      "\n",
      "_C3: x >= 4\n",
      "\n",
      "_C4: y <= 3\n",
      "\n",
      "VARIABLES\n",
      "x Continuous\n",
      "y Continuous\n",
      "\n",
      "Optimal\n",
      "6.0 0.0 18.0\n"
     ]
    },
    {
     "data": {
      "image/png": "[encoded data removed]",
      "text/plain": [
       "<Figure size 432x288 with 1 Axes>"
      ]
     },
     "metadata": {
      "needs_background": "light"
     },
     "output_type": "display_data"
    }
   ],
   "source": [
    "Lp_prob = p.LpProblem('Problem', p.LpMinimize)  \n",
    "\n",
    "# Create problem Variables  \n",
    "x = p.LpVariable(\"x\", lowBound = 0)   # Create a variable x >= 0 \n",
    "y = p.LpVariable(\"y\", lowBound = 0)   # Create a variable y >= 0 \n",
    "\n",
    "# Objective Function \n",
    "Lp_prob += 3 * x + 5 * y    # x, and y are defined variables \n",
    "\n",
    "# Constraints: \n",
    "Lp_prob += 2 * x + 3 * y >= 12 \n",
    "Lp_prob += -x + y <= 3\n",
    "Lp_prob += x >= 4\n",
    "Lp_prob += y <= 3\n",
    "\n",
    "# Display the problem \n",
    "print(Lp_prob) \n",
    "\n",
    "status = Lp_prob.solve()   # Calling the default Solver  (CBC - coin or branch and cut)\n",
    "print(p.LpStatus[status])   # The solution status  if 1-optimal, 0- no solution \n",
    "\n",
    "# Printing the final solution \n",
    "print(p.value(x), p.value(y), p.value(Lp_prob.objective)) \n",
    "\n",
    "z = np.linspace(0, 200, 100) # store 100 points in the range of 0, 200 in the form of list \n",
    "#Constraints\n",
    "y1 = (12- 2*z)/3  # rewriting the constarints \n",
    "y2 = 3+z\n",
    "# Make plot with the following arguments \n",
    "plt.plot(z, y1, label=r'$2x+3y\\geq12$')  \n",
    "plt.plot(z, y2, label=r'$-x+y\\leq3$')\n",
    "# defining the rant=ge of both the axes\n",
    "plt.xlim((0, p.value(x)+ 10)) \n",
    "plt.ylim((0, p.value(x)+ 10))\n",
    "#Labelling X and Y axis\n",
    "plt.xlabel(r'$x$')\n",
    "plt.ylabel(r'$y$')\n",
    "# Fill feasible region\n",
    "y5 = np.minimum(y2, y1)\n",
    "plt.fill_between(z, y5, color='pink',alpha=0.5)\n",
    "plt.legend(bbox_to_anchor=(1.5, 1), loc=5, borderaxespad=0.)\n",
    "plt.show()"
   ]
  },
  {
   "cell_type": "markdown",
   "metadata": {
    "colab_type": "text",
    "id": "BFGpUxnBdw3B"
   },
   "source": [
    "#### Hard wired Programming can be extended up to multiple variables\n",
    "\n",
    "## **Problem 2**\n",
    "\n",
    "##### Assest/ liability cash-flow matching\n",
    "\n",
    "**Maximize:** $w$ \n",
    "\n",
    "**for**\n",
    "\n",
    "        c1+p1−e1= 150\n",
    "\n",
    "        c2+p2+ 1.003e1−1.01c1−e2= 100\n",
    "\n",
    "        c3+p3+ 1.003e2−1.01c2−e3=−200\n",
    "\n",
    "        c4−1.02p1−1.01c3+ 1.003e3−e4= 200\n",
    "\n",
    "        c5−1.02p2−1.01c4+ 1.003e4−e5=−50\n",
    "\n",
    "        −1.02p3−1.01c5+ 1.003e5−w=−300\n",
    "\n",
    "**st:**\n",
    "$0 ≤ ci ≤100,$\n",
    "\n",
    "$1≤ i ≤5$\n",
    "\n",
    "$pi>0,1≤i≤3$\n",
    "\n",
    "$ei≥0,1≤i≤5$\n"
   ]
  },
  {
   "cell_type": "code",
   "execution_count": 4,
   "metadata": {
    "colab": {},
    "colab_type": "code",
    "id": "mGJc-2q_d0Z_"
   },
   "outputs": [
    {
     "name": "stdout",
     "output_type": "stream",
     "text": [
      "Problem:\n",
      "MAXIMIZE\n",
      "1*w + 0\n",
      "SUBJECT TO\n",
      "_C1: c1 - e1 + pi1 = 150\n",
      "\n",
      "_C2: - 1.01 c1 + c2 + 1.003 e1 - e2 + pi2 = 100\n",
      "\n",
      "_C3: - 1.01 c2 + c3 + 1.003 e2 - e3 + pi3 = -200\n",
      "\n",
      "_C4: - 1.01 c3 + c4 + 1.003 e3 - e4 - 1.02 pi1 = 200\n",
      "\n",
      "_C5: - 1.01 c4 + c5 + 1.003 e4 - e5 - 1.02 pi2 = -50\n",
      "\n",
      "_C6: - 1.01 c5 + 1.003 e5 - 1.02 pi3 - w = -300\n",
      "\n",
      "VARIABLES\n",
      "c1 <= 100 Continuous\n",
      "c2 <= 100 Continuous\n",
      "c3 <= 100 Continuous\n",
      "c4 <= 100 Continuous\n",
      "c5 <= 100 Continuous\n",
      "e1 Continuous\n",
      "e2 Continuous\n",
      "e3 Continuous\n",
      "e4 Continuous\n",
      "e5 Continuous\n",
      "pi1 Continuous\n",
      "pi2 Continuous\n",
      "pi3 Continuous\n",
      "w free Continuous\n",
      "\n",
      "Optimal\n",
      "c1: 0.0\n",
      "c2: 50.980392\n",
      "c3: 0.0\n",
      "c4: 0.0\n",
      "c5: 0.0\n",
      "e1: 0.0\n",
      "e2: 0.0\n",
      "e3: 351.94417\n",
      "e4: 0.0\n",
      "e5: 0.0\n",
      "pi1: 150.0\n",
      "pi2: 49.019608\n",
      "pi3: 203.43436\n",
      "_C1: 0.0\n",
      "_C2: 0.0\n",
      "_C3: -5.9200000350756454e-06\n",
      "_C4: 2.509999944777519e-06\n",
      "_C5: -1.5999999902760464e-07\n",
      "_C6: 3.800000001774606e-06\n",
      "92.496949\n"
     ]
    }
   ],
   "source": [
    "Lp_prob = p.LpProblem('Problem', p.LpMaximize) \n",
    "#c = p.LpVariable.dicts(f\"c[i]\",(i for i in range(1,6)),lowBound=0, upBound=100)\n",
    "c= {i:p.LpVariable(name=f\"c{i}\", lowBound=0, upBound= 100) for i in range(1, 6)}\n",
    "e= {i:p.LpVariable(name=f\"e{i}\", lowBound=0) for i in range(1, 6)}\n",
    "pi= {i:p.LpVariable(name=f\"pi{i}\", lowBound=0) for i in range(1, 4)}\n",
    "w = p.LpVariable(\"w\") \n",
    "\n",
    "#objective function \n",
    "Lp_prob += w\n",
    "\n",
    "# adding constraints\n",
    "Lp_prob += c[1]+pi[1]- e[1] == 150\n",
    "Lp_prob += c[2]+pi[2]+1.003*e[1]-1.01*c[1]-e[2] == 100\n",
    "Lp_prob += c[3]+pi[3]+1.003*e[2]-1.01*c[2]-e[3] == -200\n",
    "Lp_prob += c[4]-1.02*pi[1]-1.01*c[3]+1.003*e[3]-e[4] == 200\n",
    "Lp_prob += c[5]-1.02*pi[2]-1.01*c[4]+1.003*e[4]-e[5] == -50\n",
    "Lp_prob += -1.02*pi[3]-1.01*c[5]+1.003*e[5]-w == -300\n",
    "\n",
    "print(Lp_prob) \n",
    "\n",
    "\n",
    "status = Lp_prob.solve()   # Solver \n",
    "print(p.LpStatus[status])   # The solution status \n",
    "\n",
    "# Printing the final solution\n",
    "\n",
    "\n",
    "for var in c.values():\n",
    "    print(f\"{var.name}: {var.value()}\")\n",
    "\n",
    "for var in e.values():\n",
    "    print(f\"{var.name}: {var.value()}\")\n",
    "    \n",
    "for var in pi.values():\n",
    "    print(f\"{var.name}: {var.value()}\")\n",
    "\n",
    "for name, constraint in Lp_prob.constraints.items():\n",
    "    print(f\"{name}: {constraint.value()}\")\n",
    "\n",
    "print( p.value(Lp_prob.objective)) "
   ]
  },
  {
   "cell_type": "markdown",
   "metadata": {
    "colab_type": "text",
    "id": "cMsJsnHaeBXn"
   },
   "source": [
    "# Problem 3\n",
    "\n",
    "**Maximize :**  $Z = 500x + 450y$\n",
    "\n",
    "**St:** \n",
    "\n",
    "$x + 5/6 y <=10$\n",
    "\n",
    "$x +2y <= 15$\n",
    "\n",
    "$x <= 8$\n",
    "\n",
    "$x, y >= 0$"
   ]
  },
  {
   "cell_type": "code",
   "execution_count": 5,
   "metadata": {
    "colab": {},
    "colab_type": "code",
    "id": "KZ2OmVgMeFAj"
   },
   "outputs": [
    {
     "name": "stdout",
     "output_type": "stream",
     "text": [
      "Problem:\n",
      "MAXIMIZE\n",
      "500*x + 450*y + 0\n",
      "SUBJECT TO\n",
      "_C1: x + 0.833333333333 y <= 10\n",
      "\n",
      "_C2: x + 2 y <= 15\n",
      "\n",
      "_C3: x <= 8\n",
      "\n",
      "VARIABLES\n",
      "x Continuous\n",
      "y Continuous\n",
      "\n",
      "Optimal\n",
      "6.4285714 4.2857143 5142.857135\n"
     ]
    },
    {
     "data": {
      "image/png": "[encoded data removed]",
      "text/plain": [
       "<Figure size 432x288 with 1 Axes>"
      ]
     },
     "metadata": {
      "needs_background": "light"
     },
     "output_type": "display_data"
    }
   ],
   "source": [
    "Lp_prob = p.LpProblem('Problem', p.LpMaximize)  \n",
    "\n",
    "# Create problem Variables  \n",
    "x = p.LpVariable(\"x\", lowBound = 0)   # Create a variable x >= 0 \n",
    "y = p.LpVariable(\"y\", lowBound = 0)   # Create a variable y >= 0 \n",
    "\n",
    "# Objective Function \n",
    "Lp_prob += 500 * x + 450 * y    \n",
    "\n",
    "# Constraints: \n",
    "Lp_prob += x + 5/6 * y <= 10\n",
    "Lp_prob += x + 2*y <= 15\n",
    "Lp_prob += x <= 8\n",
    "\n",
    "# Display the problem \n",
    "print(Lp_prob) \n",
    "\n",
    "status = Lp_prob.solve()   # Solver \n",
    "print(p.LpStatus[status])   # The solution status \n",
    "\n",
    "# Printing the final solution \n",
    "print(p.value(x), p.value(y), p.value(Lp_prob.objective)) \n",
    "\n",
    "### for graphical represenation \n",
    "z = np.linspace(0, 600, 10000)\n",
    "#Constraints\n",
    "y1 = (10- z)/(5/6)\n",
    "y2 = (15-z)/2\n",
    "# Make plot\n",
    "plt.plot(z, y1, label=r'$x+5/6y\\leq10$')\n",
    "plt.plot(z, y2, label=r'$x+2y\\leq15$')\n",
    "plt.xlim((0, p.value(x)+ 10))\n",
    "plt.ylim((0, p.value(x)+ 10))\n",
    "#Labelling X and Y axis\n",
    "plt.xlabel(r'$x$')\n",
    "plt.ylabel(r'$y$')\n",
    "# Fill feasible region\n",
    "y5 = np.minimum(y2, y1)\n",
    "plt.fill_between(z, y5, color='pink',alpha=0.5)\n",
    "plt.legend(bbox_to_anchor=(1.5, 1), loc=5, borderaxespad=0.)\n",
    "plt.show()\n"
   ]
  },
  {
   "cell_type": "markdown",
   "metadata": {},
   "source": [
    "## Problem 4 (Brewer's Problem)\n",
    "\n",
    "#### Minimze: 13A+23B\n",
    "#### Subjet to: \n",
    "$5A+15B<=480$ (corn) &nbsp;\n",
    "\n",
    "$4A+4B<=160$  (Hops) &nbsp;\n",
    "\n",
    "$35A+20B <=1190$ (malt)\n",
    "\n",
    "$A>=0$\n",
    "\n",
    "$B>=0$"
   ]
  },
  {
   "cell_type": "code",
   "execution_count": 6,
   "metadata": {},
   "outputs": [
    {
     "name": "stdout",
     "output_type": "stream",
     "text": [
      "Brewers_Problem:\n",
      "MAXIMIZE\n",
      "13*A + 23*B + 0\n",
      "SUBJECT TO\n",
      "_C1: 5 A + 15 B <= 480\n",
      "\n",
      "_C2: 4 A + 4 B <= 160\n",
      "\n",
      "_C3: 35 A + 20 B <= 1190\n",
      "\n",
      "VARIABLES\n",
      "A Continuous\n",
      "B Continuous\n",
      "\n",
      "Optimal\n",
      "12.0 28.0 800.0\n"
     ]
    }
   ],
   "source": [
    " Lp_prob = p.LpProblem('Brewers_Problem', p.LpMaximize) \n",
    "   \n",
    "    # Create problem Variables  \n",
    "A = p.LpVariable(\"A\", lowBound = 0)   # Create a variable x >= 0 \n",
    "B = p.LpVariable(\"B\", lowBound = 0)   # Create a variable y >= 0   \n",
    "\n",
    "# Objective Function \n",
    "Lp_prob += 13 * A + 23 * B   # x, and y are defined variables \n",
    "  \n",
    "# Constraints: \n",
    "Lp_prob += 5 * A + 15 * B <=480 \n",
    "Lp_prob += 4*A + 4*B <= 160\n",
    "Lp_prob += 35*A + 20*B <= 1190\n",
    "    \n",
    "# Display the problem \n",
    "print(Lp_prob) \n",
    "  \n",
    "status = Lp_prob.solve()   # Calling the default Solver  (CBC - coin or branch and cut)\n",
    "print(p.LpStatus[status])   # The solution status  if 1-optimal, 0- no solution \n",
    "  \n",
    "# Printing the final solution \n",
    "print(p.value(A), p.value(B), p.value(Lp_prob.objective)) "
   ]
  },
  {
   "cell_type": "code",
   "execution_count": 7,
   "metadata": {},
   "outputs": [
    {
     "data": {
      "image/png": "[encoded data removed]",
      "text/plain": [
       "<Figure size 432x288 with 1 Axes>"
      ]
     },
     "metadata": {
      "needs_background": "light"
     },
     "output_type": "display_data"
    }
   ],
   "source": [
    "# for printing the figures\n",
    "z = np.linspace(0, 200, 100) \n",
    "# store 100 points in the range of 0, 200 in the form of list \n",
    "#Constraints\n",
    "y1 = (480-5*z)/15\n",
    "y2 = (160-4*z)/4\n",
    "y3 = (1190-35*z)/20\n",
    "\n",
    "# Make plot with the following arguments \n",
    "plt.plot(z, y1, label=r'$5A+15B\\leq480$')  \n",
    "plt.plot(z, y2, label=r'$4A+4B\\leq160$')\n",
    "plt.plot(z, y3, label=r'$35A+20B\\leq1190$')\n",
    "\n",
    "# defining the rant=ge of both the axes\n",
    "plt.xlim((0, p.value(B)+ 10)) # for ploting we will consider that argument which is maximum of all \n",
    "plt.ylim((0, p.value(B)+ 10))\n",
    "\n",
    "#Labelling X and Y axis\n",
    "plt.xlabel(r'$x$')\n",
    "plt.ylabel(r'$y$')\n",
    "# Fill feasible region\n",
    "y5 = np.minimum(y2, np.minimum(y1,y3))\n",
    "plt.fill_between(z, y5, color='pink',alpha=0.5)\n",
    "plt.legend(bbox_to_anchor=(1.5, 1), loc=5, borderaxespad=0.)\n",
    "plt.show()"
   ]
  },
  {
   "cell_type": "code",
   "execution_count": null,
   "metadata": {},
   "outputs": [],
   "source": []
  }
 ],
 "metadata": {
  "colab": {
   "name": "example0.ipynb",
   "provenance": []
  },
  "kernelspec": {
   "display_name": "Python 3",
   "language": "python",
   "name": "python3"
  },
  "language_info": {
   "codemirror_mode": {
    "name": "ipython",
    "version": 3
   },
   "file_extension": ".py",
   "mimetype": "text/x-python",
   "name": "python",
   "nbconvert_exporter": "python",
   "pygments_lexer": "ipython3",
   "version": "3.7.1"
  }
 },
 "nbformat": 4,
 "nbformat_minor": 1
}
