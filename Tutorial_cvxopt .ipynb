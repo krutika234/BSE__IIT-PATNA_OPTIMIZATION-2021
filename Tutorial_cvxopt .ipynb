{
  "cells": [
    {
      "cell_type": "markdown",
      "metadata": {
        "id": "view-in-github",
        "colab_type": "text"
      },
      "source": [
        "<a href=\"https://colab.research.google.com/github/krutika234/BSE__IIT-PATNA_OPTIMIZATION-2021/blob/main/Tutorial_cvxopt%20.ipynb\" target=\"_parent\"><img src=\"https://colab.research.google.com/assets/colab-badge.svg\" alt=\"Open In Colab\"/></a>"
      ]
    },
    {
      "cell_type": "markdown",
      "metadata": {
        "id": "oJhYWIYpxTzd"
      },
      "source": [
        "## Tutorial on cvxopt \n",
        "\n",
        "#### CVXOPT is a free software package for convex optimization based on the Python programming language. Its main purpose is to make the development of software for convex optimization applications straightforward by building on Python’s extensive standard library and on the strengths of Python as a high-level programming language.\n",
        "\n",
        "#### Just llike CVXOPT, CVXPY is one such library,  which is fully dedicated for convex programming. Tutorial for the same is availabe <a href = \"https://www.cvxpy.org/examples/index.html\"> here </a>. \n",
        "\n",
        "##### Convex optimization is a field of mathematical optimization that studies the problem of minimizing convex functions over convex sets. It has a wide range of application almost in all  disciplines such as automatic control systems, estimation and signal processing, communications and networks, electronic circuit design, data analysis and modeling, finance, statistics, etc. In finance and economics, convex optimization plays an important role.Some of the  examples are the calibration of option pricing models to market data or the optimization of an agent’s utility.\n",
        "\n",
        "##### With recent advancements in computing and optimization algorithms, convex programming is nearly as straightforward as linear programming. This tutorial covers a basic introduction one such library on how we can model our problem and solve it efficiently \n",
        "\n",
        "\n",
        "##### Cvxopt provides interfaces for almost all kinds of convex programming. It has a very nice interface for sparse matrix as of matlab, which can efficiently solve sparse matrix problem. To know more visit <a href =\"http://cvxopt.org/userguide/modeling.html\"> here</a>"
      ]
    },
    {
      "cell_type": "code",
      "execution_count": 1,
      "metadata": {
        "id": "qWNuhTgRxTzn",
        "outputId": "e5158af2-eac8-4b24-a884-6273ea1e3993",
        "colab": {
          "base_uri": "https://localhost:8080/"
        }
      },
      "outputs": [
        {
          "output_type": "stream",
          "name": "stdout",
          "text": [
            "Requirement already satisfied: cvxopt in /usr/local/lib/python3.7/dist-packages (1.2.7)\n"
          ]
        }
      ],
      "source": [
        "# to install the cvxopt library \n",
        "!pip install cvxopt\n"
      ]
    },
    {
      "cell_type": "code",
      "execution_count": 6,
      "metadata": {
        "id": "PdsRSWhNxTzu",
        "outputId": "f57ab752-3f79-4081-d139-351669a57478",
        "colab": {
          "base_uri": "https://localhost:8080/"
        }
      },
      "outputs": [
        {
          "output_type": "stream",
          "name": "stdout",
          "text": [
            "Dense matrix\n",
            "[ 1.00e+00  3.00e+00  5.00e+00]\n",
            "[ 2.00e+00  4.00e+00  6.00e+00]\n",
            "\n",
            "Sparse matrix\n",
            "[ 1.00e+00     0    ]\n",
            "[    0      2.00e+00]\n",
            "[    0         0    ]\n",
            "[    0         0    ]\n",
            "\n"
          ]
        }
      ],
      "source": [
        "# defining, or creating matrices \n",
        "# There are two different type of matrices we can create here \n",
        "# Dense matrix\n",
        "\n",
        "from cvxopt import matrix\n",
        "A = matrix([1.0, 2.0, 3.0, 4.0, 5.0, 6.0], (2,3)) # first argument contains entries of the matrix while second one is the size\n",
        "print(\"Dense matrix\")\n",
        "print(A)\n",
        "\n",
        "#  For sparse matrix \n",
        "from cvxopt import spmatrix\n",
        "D = spmatrix([1., 2.], [0, 1], [0, 1], (4,2))\n",
        "# the sparse represenation holds triple description about matrix. It stores the matrix in the form of (Value, row and column)\n",
        "# e.g (1,0,0), (2,1,1) - is the representation of the matrix D, to be stored in the memory. \n",
        "print(\"Sparse matrix\")\n",
        "print(D)"
      ]
    },
    {
      "cell_type": "code",
      "execution_count": 7,
      "metadata": {
        "id": "Cs41oS7IxTzw",
        "outputId": "6aff4438-9730-4f7e-c674-8708ca40750d",
        "colab": {
          "base_uri": "https://localhost:8080/"
        }
      },
      "outputs": [
        {
          "output_type": "stream",
          "name": "stdout",
          "text": [
            "[  0   4   8  12]\n",
            "[  1   5   9  13]\n",
            "[  2   6  10  14]\n",
            "[  3   7  11  15]\n",
            "\n",
            "4\n",
            "[  4]\n",
            "[  5]\n",
            "[  6]\n",
            "[  7]\n",
            "[  8]\n",
            "[  9]\n",
            "[ 10]\n",
            "[ 11]\n",
            "[ 12]\n",
            "[ 13]\n",
            "\n",
            "[  8  12]\n",
            "[ 10  14]\n",
            "\n"
          ]
        }
      ],
      "source": [
        "# indexing plays an important role while dealing with datastructes like matrices. \n",
        "# in general we have two different notation to do indexing \n",
        "# single indexing - In single-argument indexing a matrix by assuming stacking the columns from left to right.\n",
        "\n",
        "from cvxopt import matrix\n",
        "A = matrix(range(16),(4,4))\n",
        "print(A)\n",
        "\n",
        "print(A[4])\n",
        "print(A[4:-2]) # represent a list which starts from 4th element and end at second last element from the matrix\n",
        "print(A[[0,2],[2,3]]) # Extracting elements from row 0 and 2, with the column number 2 & 3\n"
      ]
    },
    {
      "cell_type": "markdown",
      "metadata": {
        "id": "PNLcEalzxTzx"
      },
      "source": [
        "#### How we can solve a linear programming using cvxopt "
      ]
    },
    {
      "cell_type": "code",
      "execution_count": 8,
      "metadata": {
        "id": "UDshSqc9xTzy",
        "outputId": "7556941b-29b2-4ed5-f1a8-7564a2a4e603",
        "colab": {
          "base_uri": "https://localhost:8080/"
        }
      },
      "outputs": [
        {
          "output_type": "stream",
          "name": "stdout",
          "text": [
            "     pcost       dcost       gap    pres   dres   k/t\n",
            " 0:  4.0282e+03 -5.8626e+02  6e+02  1e+00  1e+00  1e+00\n",
            " 1:  4.0975e+03 -9.9250e+02  2e+03  1e+00  1e+00  2e+01\n",
            " 2:  3.9780e+03 -2.6176e+03  4e+03  1e+00  2e+00  2e+02\n",
            " 3: -5.9125e+04 -2.0892e+05  1e+07  4e+01  5e+01  3e+04\n",
            " 4: -3.8097e+03 -6.7506e+02  3e+03  1e+00  1e+00  9e+03\n",
            " 5: -8.7580e+05 -5.9310e+03  1e+06  2e+00  3e+00  9e+05\n",
            " 6: -8.8585e+07 -5.9320e+03  1e+08  2e+00  3e+00  9e+07\n",
            "Certificate of dual infeasibility found.\n",
            "[-3.26e-03]\n",
            "[ 1.40e-03]\n",
            "\n"
          ]
        }
      ],
      "source": [
        "    # Maximize :  Z = 500x + 450y\n",
        "    #Subject to the constraints: \n",
        "    # x + 5/6 y <=10\n",
        "    # x +2y <= 15\n",
        "    # x <= 8\n",
        "    # x, y >= 0\n",
        "    \n",
        "from cvxopt import matrix, solvers # solver is class which contains different types of solver\n",
        "A = matrix([ [1.0, 1.0, 1.0, 1.0], [5/6, 2, 0.0, 1.0] ])\n",
        "b = matrix([ 10.0, 15.0, 8.0, 0.0])\n",
        "c = matrix([ 500.0, 450.0 ])\n",
        "sol=solvers.lp(c,A,b)# solver.lp() is used for linear programming \n",
        "print(sol['x'])"
      ]
    },
    {
      "cell_type": "markdown",
      "metadata": {
        "id": "5y2kr1RaxTzz"
      },
      "source": [
        "##### In the above result the statement \"Certificate of dual infeasibility found\" implies that the dual of this problem is infeasible. Algorithm terminated due to numerical difficulty or reaches its maximum iteration. \n",
        "\n",
        "#### Quadratic programming using cvxopt\n",
        "\n",
        "\n",
        "#### Minimize: $ 2x_{1}^2 + x_{2}^2 + x_{1}x_{2}+x_{1}+x_{2} $ \n",
        "#### Subject to: \n",
        "$x_{1}\\geq 0$\n",
        "\n",
        "$x_{2}\\geq 0$\n",
        "\n",
        "$x_{1}+x_{2}=1$"
      ]
    },
    {
      "cell_type": "markdown",
      "metadata": {
        "id": "49W5_K52xTz1"
      },
      "source": [
        "#### Rewriting the above set of equation in the standard format of quadratic programing \n",
        "\n",
        "#### standard form of Quadratic Programing \n",
        "\n",
        "$min_{x}$: $ \\mathbf{\\frac{1}{2} x^T P x + Q^T x}$\n",
        "\n",
        "##### Subject to: \n",
        "\n",
        "$\\mathbf{Gx\\leq h}$\n",
        "\n",
        "$\\mathbf{Ax =b}$\n",
        "\n",
        "Standard notation is followed. Matrix are represented with capital letter while vector are denoted with bold small letter.\n",
        "\n",
        "#### The above equation can be represented as \n",
        "\n",
        "$min_{x_{1}, x_{2}} $ $\\begin{pmatrix} x_{1}\\\\\n",
        "x_{2} \\\\ \\end{pmatrix}^T$ $\\begin{pmatrix} 2 & 0.5 \\\\ 0.5 & 1\\\\ \\end{pmatrix} \\begin{pmatrix} x_{1}\\\\\n",
        "x_{2} \\\\  \\end{pmatrix} $ + $ \\begin{pmatrix} 1\\\\\n",
        "1 \\\\  \\end{pmatrix}^T  \\begin{pmatrix} x_{1}\\\\\n",
        "x_{2} \\\\  \\end{pmatrix}$\n",
        "\n",
        "#### The first matrix is the Q matrix while the second one is p. Now we have to define our G,h, A, and b respectively\n",
        " $\\begin{pmatrix} -1 & 0 \\\\ 0 & -1 \\end{pmatrix} \\begin {pmatrix} x_{1} \\\\ x_{2} \\end{pmatrix} = \\begin {pmatrix} 0 \\\\ 0 \\end{pmatrix} $ \n",
        " \n",
        " $\\begin {pmatrix} 1 \\\\ 1 \\end{pmatrix}^T \\begin {pmatrix} x_{1} \\\\ x_{2} \\end{pmatrix} = \\begin {pmatrix}  1 \\end{pmatrix}$\n"
      ]
    },
    {
      "cell_type": "code",
      "execution_count": 9,
      "metadata": {
        "id": "ULSBv0YfxTz3",
        "outputId": "3af50ece-18aa-4f71-8360-0525374297ea",
        "colab": {
          "base_uri": "https://localhost:8080/"
        }
      },
      "outputs": [
        {
          "output_type": "stream",
          "name": "stdout",
          "text": [
            "     pcost       dcost       gap    pres   dres\n",
            " 0:  1.4531e+00  3.5938e-01  1e+00  3e-16  2e+00\n",
            " 1:  1.4420e+00  1.3894e+00  5e-02  2e-16  7e-02\n",
            " 2:  1.4375e+00  1.4352e+00  2e-03  2e-16  2e-16\n",
            " 3:  1.4375e+00  1.4375e+00  2e-05  1e-16  2e-16\n",
            " 4:  1.4375e+00  1.4375e+00  2e-07  2e-16  2e-16\n",
            "Optimal solution found.\n",
            "[ 2.50e-01]\n",
            "[ 7.50e-01]\n",
            "\n"
          ]
        }
      ],
      "source": [
        "# Now arranging the above in the matrix format for the program. \n",
        "Q = matrix([ [2, .5], [.5, 1] ])\n",
        "p = matrix([1.0, 1.0])\n",
        "G = matrix([[-1.0,0.0],[0.0,-1.0]])\n",
        "h = matrix([0.0,0.0])\n",
        "A = matrix([1.0, 1.0], (1,2))\n",
        "b = matrix(1.0)\n",
        "sol=solvers.qp(Q, p, G, h, A, b)\n",
        "print(sol['x'])\n"
      ]
    },
    {
      "cell_type": "code",
      "execution_count": null,
      "metadata": {
        "id": "3-jHW_oRxTz5"
      },
      "outputs": [],
      "source": [
        ""
      ]
    }
  ],
  "metadata": {
    "kernelspec": {
      "display_name": "Python 3",
      "language": "python",
      "name": "python3"
    },
    "language_info": {
      "codemirror_mode": {
        "name": "ipython",
        "version": 3
      },
      "file_extension": ".py",
      "mimetype": "text/x-python",
      "name": "python",
      "nbconvert_exporter": "python",
      "pygments_lexer": "ipython3",
      "version": "3.7.1"
    },
    "colab": {
      "name": "Tutorial_cvxopt .ipynb",
      "provenance": [],
      "include_colab_link": true
    }
  },
  "nbformat": 4,
  "nbformat_minor": 0
}