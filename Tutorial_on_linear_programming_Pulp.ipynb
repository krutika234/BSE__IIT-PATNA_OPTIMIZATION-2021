{
  "nbformat": 4,
  "nbformat_minor": 0,
  "metadata": {
    "kernelspec": {
      "display_name": "Python 3",
      "language": "python",
      "name": "python3"
    },
    "language_info": {
      "codemirror_mode": {
        "name": "ipython",
        "version": 3
      },
      "file_extension": ".py",
      "mimetype": "text/x-python",
      "name": "python",
      "nbconvert_exporter": "python",
      "pygments_lexer": "ipython3",
      "version": "3.7.1"
    },
    "colab": {
      "name": "Copy of Tutorial_on_linear_programming_Pulp.ipynb",
      "provenance": [],
      "collapsed_sections": [],
      "include_colab_link": true
    }
  },
  "cells": [
    {
      "cell_type": "markdown",
      "metadata": {
        "id": "view-in-github",
        "colab_type": "text"
      },
      "source": [
        "<a href=\"https://colab.research.google.com/github/krutika234/BSE__IIT-PATNA_OPTIMIZATION-2021/blob/main/Tutorial_on_linear_programming_Pulp.ipynb\" target=\"_parent\"><img src=\"https://colab.research.google.com/assets/colab-badge.svg\" alt=\"Open In Colab\"/></a>"
      ]
    },
    {
      "cell_type": "markdown",
      "metadata": {
        "id": "gz7AucsKaRrA"
      },
      "source": [
        "## Tutorial on Pulp \n",
        "\n",
        "\n",
        "### Linear Programming and integer programming are widely used techniques in the field of diceret optimization. They generally dominates all the sectors like bussiness, finance, autmobiles transportation etc... Due to its wide applicablity, it is necessary to know how to model the problems of linear programming and how we can solve it using modern softwares and technologies. This tutorial will be basically on modelling of linear and non linear programming and how to solve it. \n",
        "\n",
        "#### We have selected some of the libaries which are quiet easy to use and can model the linear programming easily. \n",
        "#### To solve such problems easily we will conside three libraries \n",
        "1.pulp\n",
        "\n",
        "2.scipy \n",
        "\n",
        "3.cvxopt\n",
        "\n",
        "##### In this part of tutorial we will cover pulp"
      ]
    },
    {
      "cell_type": "markdown",
      "metadata": {
        "id": "BANe2MWPacGL"
      },
      "source": [
        "#### 1. A simple example \n",
        "##### Car manufacturing \n",
        "\n",
        "\n",
        "#### Problem statement \n",
        "a) We have two models of a car, Car A and Car B.\n",
        "\n",
        "b) Car A gives us a profit of 20k and Car B gives us a profit of 45k.\n",
        "\n",
        "c)The Designer takes 4 days to build Car A and 5 days to build Car B.\n",
        "\n",
        "d) The Engineer takes 3 days to build Car A and 6 days to build Car B.\n",
        "\n",
        "e) The Machine takes 2 days to build Car A and 7 days to build Car B.\n",
        "\n",
        "f) The Designer, Engineer and Machine can all work for 30 days\n",
        "\n",
        "\n",
        "### Decision variable :- # A and B. \n",
        "\n",
        "\n",
        "#### Objective function: \n",
        "$ Max: 20000 A+ 45000 B$\n",
        "\n",
        "#### Subject to \n",
        "$A, B >=0$\n",
        "\n",
        "$4A+5B <=30$\n",
        "\n",
        "$3A+6B <=30$\n",
        "\n",
        "$2A +7B <=30$\n",
        "\n"
      ]
    },
    {
      "cell_type": "code",
      "metadata": {
        "colab": {
          "base_uri": "https://localhost:8080/"
        },
        "id": "pDqT4LJXcOP9",
        "outputId": "30a1e220-5442-447f-f0ba-400f7a13bd81"
      },
      "source": [
        "# to start with first we have to install pulp\n",
        "#command to install pulp library \n",
        "!pip install pulp"
      ],
      "execution_count": null,
      "outputs": [
        {
          "output_type": "stream",
          "name": "stdout",
          "text": [
            "Collecting pulp\n",
            "  Downloading PuLP-2.5.1-py3-none-any.whl (41.2 MB)\n",
            "\u001b[K     |████████████████████████████████| 41.2 MB 79.1 MB/s \n",
            "\u001b[?25hInstalling collected packages: pulp\n",
            "Successfully installed pulp-2.5.1\n"
          ]
        }
      ]
    },
    {
      "cell_type": "code",
      "metadata": {
        "id": "Ddd5JKOkcV9D"
      },
      "source": [
        "#Importing all the required libraries \n",
        "\n",
        "%matplotlib inline\n",
        "import pulp as p \n",
        "import matplotlib.pyplot as plt #it is used for creating scatter line bars, charts, figure, scatter plots etc.\n",
        "import numpy as np # a whole-some package for performing basic scientific operations. "
      ],
      "execution_count": null,
      "outputs": []
    },
    {
      "cell_type": "markdown",
      "metadata": {
        "id": "vUrPkVSPcepn"
      },
      "source": [
        "Brief explanation on working of the functions\n",
        "1. First importing the library as p\n",
        "2. LpProblem is a function defined in the pulp, having two parameters name and declaration of maximize/minimizing of function\n",
        "3. LpVariable hold the variables of the objective functions. lower and upper bound of a variable can be defined,\n",
        "4. if not defined then default value will be taken\n",
        "5. Lp_prob represents the objective function in terms of defined variables\n",
        "6. It holds all informtaion regarding variables and the problem\n",
        "7. using + sign will store the variables and its coefficients in there respective slots"
      ]
    },
    {
      "cell_type": "code",
      "metadata": {
        "colab": {
          "base_uri": "https://localhost:8080/"
        },
        "id": "N4GWuVNncaiz",
        "outputId": "5e69c2bc-576b-494d-eaab-987cc2fece50"
      },
      "source": [
        "Lp_prob = p.LpProblem('Simple_Problem', p.LpMaximize) \n",
        "   \n",
        "    # Create problem Variables  \n",
        "x = p.LpVariable(\"x\", lowBound = 0, cat='Integer')   # Create a variable x >= 0 \n",
        "y = p.LpVariable(\"y\", lowBound = 0, cat='Integer')   # Create a variable y >= 0   \n",
        "\n",
        "# Objective Function \n",
        "Lp_prob += 20000 * x + 45000 *y   # x, and y are defined variables \n",
        "  \n",
        "# Constraints: \n",
        "Lp_prob += 4*x + 5*y  <=30\n",
        "Lp_prob +=  3*x+ 6*y <=30 \n",
        "Lp_prob += 2*x+ 7*y  <= 40\n",
        "    \n",
        "# Display the problem \n",
        "print(Lp_prob) \n",
        "  \n",
        "status = Lp_prob.solve()   # Calling the default Solver  (CBC - coin or branch and cut)\n",
        "print(p.LpStatus[status])   # The solution status  if 1-optimal, 0- no solution \n",
        "  \n",
        "# Printing the final solution \n",
        "print(p.value(x), p.value(y),p.value(Lp_prob.objective)) \n",
        "print(\"Current Status: \", p.LpStatus[Lp_prob.status])"
      ],
      "execution_count": null,
      "outputs": [
        {
          "output_type": "stream",
          "name": "stdout",
          "text": [
            "Simple_Problem:\n",
            "MAXIMIZE\n",
            "20000*x + 45000*y + 0\n",
            "SUBJECT TO\n",
            "_C1: 4 x + 5 y <= 30\n",
            "\n",
            "_C2: 3 x + 6 y <= 30\n",
            "\n",
            "_C3: 2 x + 7 y <= 40\n",
            "\n",
            "VARIABLES\n",
            "0 <= x Integer\n",
            "0 <= y Integer\n",
            "\n",
            "Optimal\n",
            "0.0 5.0 225000.0\n",
            "Current Status:  Optimal\n"
          ]
        }
      ]
    },
    {
      "cell_type": "markdown",
      "metadata": {
        "id": "Zo5kr9TBaRrD"
      },
      "source": [
        "#### 2.Cash flow matching LP problem \n",
        "##### Project funding example \n",
        "\n",
        "\n",
        "#### Problem statement \n",
        "A company is planning a 3-year renovation of its facilities and would like to Ænance the project by buying bonds in the year 1998.  A management study has estimated the following cash requirements for the project:\n",
        "\n",
        "Cash Requirement in milions = $\\begin{pmatrix} Year1 & Year2 & Year3 \\\\\n",
        "----- & -----& ----- \\\\\n",
        "1991 & 2000 & 2001\\\\\n",
        "20 & 30 & 40 \n",
        "\\end{pmatrix}$\n",
        "\n",
        "#### The investment committee is considering four government bonds for possible purchase.  The price and cash flows of the bonds are:\n",
        "\n",
        "#### Bond Cash Flow\n",
        "\n",
        "$\\begin{pmatrix} bonds & 1998 & 1991 & 2000 & 2001 \\\\\n",
        "----- & -----& -----&-----& ----- \\\\\n",
        "Bond1 & -1.04 & 0.05 & 0.05 & 1.05 \\\\\n",
        "Bond2 & -1.00 & 0.04 & 1.04 \\\\\n",
        "Bond3 & -0.98 & 1.00\\\\\n",
        "Bond4 & -0.92 & 0.00 & 1.00\\\\\n",
        "\\end{pmatrix}$\n",
        "\n",
        "\n",
        "#### What is the least expensive portfolio of bonds whose cash flows equal or exceed the requirements for the project?\n",
        "\n",
        "### Decision variable :- # of bonds to be purchased today of each kind  - $x_{j}$. \n",
        "\n",
        "\n",
        "#### Objective function: Minimize the total cost of the bond portfolio\n",
        "$ min: 1.04 x_{1}+ 1.00 x_{2} + 0.98 x_{3}+ 0.92 x_{4} $\n",
        "\n",
        "#### Subject to \n",
        "$0.05 x_{1}+ 0.04 x_{2} + x_{3} >= 20 $ (1999)\n",
        "\n",
        "$0.05 x_{1}+ 1.04 x_{2} + x_{4} >= 30 $ (2000)\n",
        "\n",
        "$1.05 x_{1} >= 40$ (2001)\n",
        "\n",
        "$ x_{j} \\geq 0 $ for $j = 1,2,3,4$\n"
      ]
    },
    {
      "cell_type": "code",
      "metadata": {
        "id": "2X8HfByiaRrE"
      },
      "source": [
        "# to start with first we have to install pulp\n",
        "#command to install pulp library \n",
        "!pip install pulp"
      ],
      "execution_count": null,
      "outputs": []
    },
    {
      "cell_type": "code",
      "metadata": {
        "id": "q4W4QuuEaRrF"
      },
      "source": [
        "#Importing all the required libraries \n",
        "\n",
        "%matplotlib inline\n",
        "import pulp as p \n",
        "import matplotlib.pyplot as plt #it is used for creating scatter line bars, charts, figure, scatter plots etc.\n",
        "import numpy as np # a whole-some package for performing basic scientific operations. "
      ],
      "execution_count": null,
      "outputs": []
    },
    {
      "cell_type": "markdown",
      "metadata": {
        "id": "vHIceeuxaRrF"
      },
      "source": [
        "#### Tutorial on matplotlib  <a href = https://www.tutorialspoint.com/matplotlib/matplotlib_pyplot_api.htm> here </a>"
      ]
    },
    {
      "cell_type": "markdown",
      "metadata": {
        "id": "TkVqQhxKaRrG"
      },
      "source": [
        "#### Brief explanation on working of the functions\n",
        "##### 1. First importing the library as p\n",
        "##### 2. LpProblem is a function defined in the pulp, having two parameters name and declaration of maximize/minimizing of function\n",
        "##### 3. LpVariable hold the variables of the objective functions. lower and upper bound of a variable can be defined,\n",
        "##### 4. if not defined then default value will be taken\n",
        "##### 5. Lp_prob represents the objective function in terms of defined variables \n",
        "##### 6. It holds all informtaion regarding variables and the problem \n",
        "##### 7. using + sign will store the variables and its coefficients in there respective slots "
      ]
    },
    {
      "cell_type": "code",
      "metadata": {
        "id": "DK1iVaeeaRrG",
        "outputId": "3c69e6ab-a388-4038-ed0a-b4ca42a4cc66"
      },
      "source": [
        "Lp_prob = p.LpProblem('Cashflow_Problem', p.LpMinimize) \n",
        "   \n",
        "    # Create problem Variables  \n",
        "x = p.LpVariable(\"x\", lowBound = 0)   # Create a variable x >= 0 \n",
        "y = p.LpVariable(\"y\", lowBound = 0)   # Create a variable y >= 0   \n",
        "z = p.LpVariable(\"z\", lowBound = 0)   # Create a variable z >= 0 \n",
        "w = p.LpVariable(\"w\", lowBound = 0)   # Create a variable w >= 0   \n",
        "\n",
        "# Objective Function \n",
        "Lp_prob += 1.04 * x + y + 0.98* z+0.92*w  # x, and y are defined variables \n",
        "  \n",
        "# Constraints: \n",
        "Lp_prob += 0.05 * x + 0.04 * y+ z >= 20\n",
        "Lp_prob +=  0.05 * x+ 1.04 * y + w>= 30\n",
        "Lp_prob += 1.05*x >= 40\n",
        "    \n",
        "# Display the problem \n",
        "print(Lp_prob) \n",
        "  \n",
        "status = Lp_prob.solve()   # Calling the default Solver  (CBC - coin or branch and cut)\n",
        "print(p.LpStatus[status])   # The solution status  if 1-optimal, 0- no solution \n",
        "  \n",
        "# Printing the final solution \n",
        "print(p.value(x), p.value(y), p.value(z), p.value(w),p.value(Lp_prob.objective)) "
      ],
      "execution_count": null,
      "outputs": [
        {
          "name": "stdout",
          "output_type": "stream",
          "text": [
            "Cashflow_Problem:\n",
            "MINIMIZE\n",
            "0.92*w + 1.04*x + 1*y + 0.98*z + 0.0\n",
            "SUBJECT TO\n",
            "_C1: 0.05 x + 0.04 y + z >= 20\n",
            "\n",
            "_C2: w + 0.05 x + 1.04 y >= 30\n",
            "\n",
            "_C3: 1.05 x >= 40\n",
            "\n",
            "VARIABLES\n",
            "w Continuous\n",
            "x Continuous\n",
            "y Continuous\n",
            "z Continuous\n",
            "\n",
            "Optimal\n",
            "38.095238 0.0 18.095238 28.095238 83.19999972\n"
          ]
        }
      ]
    },
    {
      "cell_type": "code",
      "metadata": {
        "colab": {
          "base_uri": "https://localhost:8080/"
        },
        "id": "f1g8UsoQaRrI",
        "outputId": "f46486bc-2d41-4d45-eda3-deaba88a392d"
      },
      "source": [
        "import pulp as p\n",
        "solver_list = print(p.listSolvers())"
      ],
      "execution_count": null,
      "outputs": [
        {
          "output_type": "stream",
          "name": "stdout",
          "text": [
            "['GLPK_CMD', 'PYGLPK', 'CPLEX_CMD', 'CPLEX_PY', 'GUROBI', 'GUROBI_CMD', 'MOSEK', 'XPRESS', 'PULP_CBC_CMD', 'COIN_CMD', 'COINMP_DLL', 'CHOCO_CMD', 'PULP_CHOCO_CMD', 'MIPCL_CMD', 'SCIP_CMD']\n"
          ]
        }
      ]
    },
    {
      "cell_type": "code",
      "metadata": {
        "id": "7KpWUlwagX1_",
        "colab": {
          "base_uri": "https://localhost:8080/"
        },
        "outputId": "a7af404b-0a0f-415f-c920-e91b2c693796"
      },
      "source": [
        "#solver = p.CPLEX_CMD() # pl.CPLEX_CMD(path=path_to_cplex)\n",
        "#solver = p.PULP_CBC_CMD()\n",
        "solver = p. PYGLPK()\n",
        "\n",
        "\n",
        "Lp_prob = p.LpProblem('Simple_Problem', p.LpMaximize) \n",
        "   \n",
        "    # Create problem Variables  \n",
        "x = p.LpVariable(\"x\", lowBound = 0, cat='Integer')   # Create a variable x >= 0 \n",
        "y = p.LpVariable(\"y\", lowBound = 0, cat='Integer')   # Create a variable y >= 0   \n",
        "\n",
        "# Objective Function \n",
        "Lp_prob += 20000 * x + 45000 *y   # x, and y are defined variables \n",
        "  \n",
        "# Constraints: \n",
        "Lp_prob += 4*x + 5*y  <=30\n",
        "Lp_prob +=  3*x+ 6*y <=30 \n",
        "Lp_prob += 2*x+ 7*y  <= 40\n",
        "    \n",
        "# Display the problem \n",
        "print(Lp_prob) \n",
        "  \n",
        "status = Lp_prob.solve()   # Calling the default Solver  (CBC - coin or branch and cut)\n",
        "print(p.LpStatus[status])   # The solution status  if 1-optimal, 0- no solution \n",
        "  \n",
        "# Printing the final solution \n",
        "print(p.value(x), p.value(y),p.value(Lp_prob.objective)) \n",
        "print(\"Current Status: \", p.LpStatus[Lp_prob.status])"
      ],
      "execution_count": null,
      "outputs": [
        {
          "output_type": "stream",
          "name": "stdout",
          "text": [
            "Simple_Problem:\n",
            "MAXIMIZE\n",
            "20000*x + 45000*y + 0\n",
            "SUBJECT TO\n",
            "_C1: 4 x + 5 y <= 30\n",
            "\n",
            "_C2: 3 x + 6 y <= 30\n",
            "\n",
            "_C3: 2 x + 7 y <= 40\n",
            "\n",
            "VARIABLES\n",
            "0 <= x Integer\n",
            "0 <= y Integer\n",
            "\n",
            "Optimal\n",
            "0.0 5.0 225000.0\n",
            "Current Status:  Optimal\n"
          ]
        }
      ]
    },
    {
      "cell_type": "markdown",
      "metadata": {
        "id": "XBL-oys3Iog2"
      },
      "source": [
        "\n",
        "##Practice Problem \n",
        "\n",
        "##### WAP using Pulp library (use python) \n",
        "\n",
        "---\n",
        "\n",
        "\n",
        "\n",
        "**1)**\n",
        "#### Objective function: \n",
        "$ Max: 4x+ y$\n",
        "\n",
        "#### Subject to \n",
        "$x, y >=0$\n",
        "\n",
        "$x+y <=50$\n",
        "\n",
        "$3x+y <=90$\n",
        "\n",
        "\n",
        "**2)**\n",
        "A manufacturing company makes two models\n",
        "A and B of a product. Each piece of Model A requires 9 labour hours for fabricating\n",
        "and 1 labour hour for finishing. Each piece of Model B requires 12 labour hours for\n",
        "fabricating and 3 labour hours for finishing. For fabricating and finishing, the maximum\n",
        "\n",
        "labour hours available are 180 and 30 respectively. The company makes a profit of\n",
        "Rs 8000 on each piece of model A and Rs 12000 on each piece of Model B. How many\n",
        "pieces of Model A and Model B should be manufactured per week to realise a maximum\n",
        "\n",
        "profit? What is the maximum profit per week?"
      ]
    }
  ]
}