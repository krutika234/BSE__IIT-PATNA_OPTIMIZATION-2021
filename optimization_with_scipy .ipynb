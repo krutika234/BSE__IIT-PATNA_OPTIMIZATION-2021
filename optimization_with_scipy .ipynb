{
  "cells": [
    {
      "cell_type": "markdown",
      "metadata": {
        "id": "view-in-github",
        "colab_type": "text"
      },
      "source": [
        "<a href=\"https://colab.research.google.com/github/krutika234/BSE__IIT-PATNA_OPTIMIZATION-2021/blob/main/optimization_with_scipy%20.ipynb\" target=\"_parent\"><img src=\"https://colab.research.google.com/assets/colab-badge.svg\" alt=\"Open In Colab\"/></a>"
      ]
    },
    {
      "cell_type": "markdown",
      "metadata": {
        "id": "y2j3GbRXt1bA"
      },
      "source": [
        "###     Optimization_using_Scipy \n",
        "####    The following content will give you a brief introduction about the utility of scipy library in the field of optimization. \n",
        "####    This tutorial deals with both constraint and uncontraint optimization, some of its very basic codes and explainations for the beginners. \n",
        "#### To know more in details click <a href=\"https://docs.scipy.org/doc/scipy/reference/tutorial/optimize.html\">here </a>. \n",
        "#### Rosenbrock function :- a multivariate scalar function, act as an objective function for both the types of problem. \n",
        "#### Some of its kinds are <a href=\" https://en.wikipedia.org/wiki/Test_functions_for_optimization\"> Benchmark functions to test optimizers </a>. \n",
        "\n",
        "\n"
      ]
    },
    {
      "cell_type": "code",
      "execution_count": null,
      "metadata": {
        "id": "wlUjoKiwt1bF",
        "outputId": "67de1ac9-020c-4ceb-dbff-1973cac1effd"
      },
      "outputs": [
        {
          "name": "stdout",
          "output_type": "stream",
          "text": [
            "Requirement already satisfied: scipy in c:\\programdata\\anaconda3\\lib\\site-packages (1.1.0)\n"
          ]
        },
        {
          "name": "stderr",
          "output_type": "stream",
          "text": [
            "WARNING: pip is being invoked by an old script wrapper. This will fail in a future version of pip.\n",
            "Please see https://github.com/pypa/pip/issues/5599 for advice on fixing the underlying issue.\n",
            "To avoid this problem you can invoke Python with '-m pip' instead of running pip directly.\n",
            "WARNING: You are using pip version 20.2.1; however, version 20.2.2 is available.\n",
            "You should consider upgrading via the 'C:\\ProgramData\\Anaconda3\\python.exe -m pip install --upgrade pip' command.\n"
          ]
        }
      ],
      "source": [
        "# installing the scipy library \n",
        "!pip install scipy  "
      ]
    },
    {
      "cell_type": "markdown",
      "metadata": {
        "id": "e3m0w6ywt1bI"
      },
      "source": [
        "#### The above command will help you to install the scipy in python\n",
        "#### Importing the  required libraries "
      ]
    },
    {
      "cell_type": "code",
      "execution_count": null,
      "metadata": {
        "id": "feSZJB0st1bJ"
      },
      "outputs": [],
      "source": [
        "from scipy import optimize as so\n",
        "import numpy as np\n",
        "import math"
      ]
    },
    {
      "cell_type": "markdown",
      "metadata": {
        "id": "7VJqqGDlt1bJ"
      },
      "source": [
        "#### Unconstarint optimization \n",
        "####  Objective function \n",
        "\n",
        "#### Minimize: $f(x,y) = (1-x) $<sup> 2 </sup> $+ 100*(y - x$<sup>2</sup>) <sup> 2</sup>\n",
        "    \n",
        "    \n",
        "#### function is minimum at (1,1) with the value zero.\n",
        "##### The first step to start with is to either declare the rosenback function or to simply call the inbuilt rosenback function from scipy library \n"
      ]
    },
    {
      "cell_type": "code",
      "execution_count": null,
      "metadata": {
        "id": "CoGr1_Mit1bK",
        "outputId": "ce54b045-1857-436b-80de-63fd11d20a0e"
      },
      "outputs": [
        {
          "name": "stdout",
          "output_type": "stream",
          "text": [
            "<function rosen at 0x0000025BEE5E6B70>\n"
          ]
        }
      ],
      "source": [
        "# Calling an inbuilt rosenbrock function \n",
        "\n",
        "rosen = so.rosen\n",
        "print (rosen)"
      ]
    },
    {
      "cell_type": "code",
      "execution_count": null,
      "metadata": {
        "id": "gdTRgnEmt1bK"
      },
      "outputs": [],
      "source": [
        "# declaring the rosenbrock\n",
        "\n",
        "def rosen_user(x):\n",
        "    return (1-x[0])**2+100*math.pow((x[1]- (x[0]**2)),2)"
      ]
    },
    {
      "cell_type": "code",
      "execution_count": null,
      "metadata": {
        "id": "4DhMKwQbt1bL",
        "outputId": "c6504289-3562-437b-b13b-4726ead0f09b"
      },
      "outputs": [
        {
          "name": "stdout",
          "output_type": "stream",
          "text": [
            "   direc: array([[-7.90312985e-03, -1.47693647e-02],\n",
            "       [-9.73373762e-07, -2.01936048e-06]])\n",
            "     fun: 4.61495955505936e-28\n",
            " message: 'Optimization terminated successfully.'\n",
            "    nfev: 325\n",
            "     nit: 12\n",
            "  status: 0\n",
            " success: True\n",
            "       x: array([1., 1.])\n"
          ]
        }
      ],
      "source": [
        "# minimzing the above functions with the help of different optimizers \n",
        "x=[0,2] # defining the range for the variable\n",
        "res = so.minimize(rosen_user,x,method='powell')\n",
        "print(res)"
      ]
    },
    {
      "cell_type": "markdown",
      "metadata": {
        "id": "1wjTO4eLt1bL"
      },
      "source": [
        "##### The above result  consist of multiple arguments which are explained below\n",
        "#####  Objective value of the function is represent by \"fun\", Its value is almost equal to zero for this function. \"nfev\"  shows no of times objective function has evaluated.,  \"nit\" represents the no of the iteration taken by the optimizer., status represents status of termination. \n"
      ]
    },
    {
      "cell_type": "code",
      "execution_count": null,
      "metadata": {
        "id": "H7IAVXUlt1bM",
        "outputId": "183b9752-8cb6-4715-c00d-2518a497f24c"
      },
      "outputs": [
        {
          "name": "stdout",
          "output_type": "stream",
          "text": [
            "   direc: array([[-7.90312985e-03, -1.47693647e-02],\n",
            "       [-9.73373762e-07, -2.01936048e-06]])\n",
            "     fun: 4.61495955505936e-28\n",
            " message: 'Optimization terminated successfully.'\n",
            "    nfev: 325\n",
            "     nit: 12\n",
            "  status: 0\n",
            " success: True\n",
            "       x: array([1., 1.])\n"
          ]
        }
      ],
      "source": [
        "\n",
        "x=[0,2]\n",
        "res = so.minimize(rosen,x,method='powell')\n",
        "print(res)"
      ]
    },
    {
      "cell_type": "markdown",
      "metadata": {
        "id": "7XoBfDCut1bM"
      },
      "source": [
        "##### The above optmizer is not using gradient information which increase the no of iteration and late convergence to the function. To improve the convergence rate we will incorporate the gradient information to the optimizer.  Gradient can be incorporated in two ways\n",
        "##### 1. Calculating the gradient manually. \n",
        "##### 2. By default it will compute the value of the gradient. "
      ]
    },
    {
      "cell_type": "code",
      "execution_count": null,
      "metadata": {
        "id": "i1dfY8mJt1bN",
        "outputId": "c0612887-1d12-4cbe-d838-84e336928622"
      },
      "outputs": [
        {
          "name": "stdout",
          "output_type": "stream",
          "text": [
            "      fun: 2.1139082794782265e-11\n",
            " hess_inv: array([[0.48714168, 0.97239266],\n",
            "       [0.97239266, 1.94573529]])\n",
            "      jac: array([ 6.37411672e-06, -3.30079002e-06])\n",
            "  message: 'Optimization terminated successfully.'\n",
            "     nfev: 120\n",
            "      nit: 23\n",
            "     njev: 30\n",
            "   status: 0\n",
            "  success: True\n",
            "        x: array([0.99999541, 0.99999079])\n"
          ]
        }
      ],
      "source": [
        "# Run with the default computation of the gradient \n",
        "res = so.minimize(rosen_user,x,method='BFGS')\n",
        "print(res)"
      ]
    },
    {
      "cell_type": "markdown",
      "metadata": {
        "id": "9cYDYCNpt1bN"
      },
      "source": [
        "**bold text**![derivative](https://github.com/krutika234/BSE__IIT-PATNA_OPTIMIZATION-2021/blob/main/img/derivative.png?raw=1)\n",
        "##### For detailed information <a href = https://docs.scipy.org/doc/scipy/reference/tutorial/optimize.html > Click_here </a>"
      ]
    },
    {
      "cell_type": "code",
      "execution_count": null,
      "metadata": {
        "id": "-NO4ab8Ut1bO"
      },
      "outputs": [],
      "source": [
        "# derivative of Rosenbrock function\n",
        "def rosen_der(x):\n",
        "    xm = x[1:-1] # pop the first and last element from the list and return the remaining list.\n",
        "    xm_m1 = x[:-2] # pop the last element from the list and return the remaining list. \n",
        "    xm_p1 = x[2:] # create a list from the second element of the existing list.\n",
        "    der = np.zeros_like(x) # create a zero array as the length of x. \n",
        "    der[1:-1] = 200*(xm-xm_m1**2) - 400*(xm_p1 - xm**2)*xm - 2*(1-xm)\n",
        "    der[0] = -400*x[0]*(x[1]-x[0]**2) - 2*(1-x[0])\n",
        "    der[-1] = 200*(x[-1]-x[-2]**2)\n",
        "    return der\n"
      ]
    },
    {
      "cell_type": "code",
      "execution_count": null,
      "metadata": {
        "id": "99_AcUvSt1bO",
        "outputId": "0b2a499b-8918-4a7a-e4fd-9f365e9774d0"
      },
      "outputs": [
        {
          "name": "stdout",
          "output_type": "stream",
          "text": [
            "      fun: 3.3377753178068095e-14\n",
            " hess_inv: array([[0.486786  , 0.97169832],\n",
            "       [0.97169832, 1.94439123]])\n",
            "      jac: array([ 5.73889198e-06, -2.97548399e-06])\n",
            "  message: 'Optimization terminated successfully.'\n",
            "     nfev: 30\n",
            "      nit: 23\n",
            "     njev: 30\n",
            "   status: 0\n",
            "  success: True\n",
            "        x: array([0.99999989, 0.99999977])\n"
          ]
        }
      ],
      "source": [
        "# Running the optimizer with computed gradient: \n",
        "res = so.minimize(rosen_user,x,method='BFGS', jac =rosen_der)\n",
        "print(res)"
      ]
    },
    {
      "cell_type": "markdown",
      "metadata": {
        "id": "2CobaNwTt1bP"
      },
      "source": [
        "##### Like wise we can also call the other optimizer. \n",
        "###### Some of the optimizers do required calculation of hessian which can be computed manually as of jacobian. "
      ]
    },
    {
      "cell_type": "markdown",
      "metadata": {
        "id": "RecRx2lnt1bP"
      },
      "source": [
        "#### Now we will move to constrained optimization. First we will cover linear constarint and then we will cover non- linear constraint. Examples are given below. \n",
        "\n",
        "####  Objective function: \n",
        "$ min_{x,y}: f(x,y) = (1-x)$ <sup> 2 </sup> $+ 100*(y - x$<sup>2</sup>) <sup> 2</sup>\n",
        "\n",
        "##### Subject to:\n",
        "\n",
        "$x+y-2 =0 $ (Linear constraint)\n",
        "\n"
      ]
    },
    {
      "cell_type": "markdown",
      "metadata": {
        "id": "meIpnADYt1bQ"
      },
      "source": [
        "##### The above linear constraint can be re written in the form of matrix which can be used with the inbuit function for linear constraint in scipy library\n",
        "\n"
      ]
    },
    {
      "cell_type": "markdown",
      "metadata": {
        "id": "gaC_eZjat1bQ"
      },
      "source": [
        "$ \\begin{pmatrix}\n",
        "   \\infty\n",
        "   \\end{pmatrix} \\leq\n",
        "    \\begin{pmatrix}\n",
        "     1 & 1 \n",
        "   \\end{pmatrix}\n",
        "   \\begin{pmatrix}\n",
        "     x \\\\\n",
        "     y\n",
        "   \\end{pmatrix}\n",
        "   \\leq\n",
        "     \\begin{pmatrix}\n",
        "     2\n",
        "   \\end{pmatrix} $  "
      ]
    },
    {
      "cell_type": "code",
      "execution_count": null,
      "metadata": {
        "id": "ZCXOdUaot1bR"
      },
      "outputs": [],
      "source": [
        "linear_constraint = so.LinearConstraint([1,1],[-np.inf], [2]) # The first argument is the coefficent of all variables\n",
        "# second and third arguments defines the upper and lower bounds for all the variables  "
      ]
    },
    {
      "cell_type": "markdown",
      "metadata": {
        "id": "5vDaVNTht1bR"
      },
      "source": [
        "![hessian](https://github.com/krutika234/BSE__IIT-PATNA_OPTIMIZATION-2021/blob/main/img/Hessian.png?raw=1)"
      ]
    },
    {
      "cell_type": "code",
      "execution_count": null,
      "metadata": {
        "id": "tZ9Su87-t1bS"
      },
      "outputs": [],
      "source": [
        "# Hessian matrix can be formed in tow ways \n",
        "# 1. calculate the partial second order derivative of the function \n",
        "# 2. used jacobian matrix as an approximation of hessian matrix\n",
        "\n",
        "# it will create a diagonal matrix for the manually computed hessian \n",
        "def rosen_hess(x): \n",
        "    x = np.asarray(x)\n",
        "    H = np.diag(-400*x[:-1],1) - np.diag(400*x[:-1],-1)\n",
        "    diagonal = np.zeros_like(x)\n",
        "    diagonal[0] = 1200*x[0]**2-400*x[1]+2\n",
        "    diagonal[-1] = 200\n",
        "    diagonal[1:-1] = 202 + 1200*x[1:-1]**2 - 400*x[2:]\n",
        "    H = H + np.diag(diagonal)\n",
        "    return H\n"
      ]
    },
    {
      "cell_type": "code",
      "execution_count": null,
      "metadata": {
        "id": "Z665fNJOt1bS",
        "outputId": "08890493-b4b1-4942-803e-69a00499055a"
      },
      "outputs": [
        {
          "name": "stdout",
          "output_type": "stream",
          "text": [
            " barrier_parameter: 6.400000000000003e-06\n",
            " barrier_tolerance: 6.400000000000003e-06\n",
            "          cg_niter: 71\n",
            "      cg_stop_cond: 4\n",
            "            constr: [array([1.99420849])]\n",
            "       constr_nfev: [0]\n",
            "       constr_nhev: [0]\n",
            "       constr_njev: [0]\n",
            "    constr_penalty: 1.0\n",
            "  constr_violation: 0.0\n",
            "    execution_time: 0.06337285041809082\n",
            "               fun: 3.727492214166025e-06\n",
            "              grad: array([-0.00128806, -0.00128805])\n",
            "               jac: [array([[1, 1]])]\n",
            "   lagrangian_grad: array([-5.58057363e-09, -5.57077461e-10])\n",
            "           message: '`gtol` termination condition is satisfied.'\n",
            "            method: 'tr_interior_point'\n",
            "              nfev: 45\n",
            "              nhev: 40\n",
            "             niter: 50\n",
            "              njev: 40\n",
            "        optimality: 5.580573626253957e-09\n",
            "            status: 1\n",
            "         tr_radius: 27454.98281013869\n",
            "                 v: [array([0.00128805])]\n",
            "                 x: array([0.9980704 , 0.99613809])\n"
          ]
        }
      ],
      "source": [
        "\n",
        "x=[0,2]\n",
        "res = so.minimize(rosen_user,x, method='trust-constr', jac=rosen_der, hess=rosen_hess, constraints=linear_constraint)\n",
        "print(res)"
      ]
    },
    {
      "cell_type": "markdown",
      "metadata": {
        "id": "U4ePF4Ott1bT"
      },
      "source": [
        "##### We will now use the above objective function with the non linear constraints\n",
        "#### Subject to:\n",
        "$(x-1)$<sup>3</sup>$ - y+1 =0$ (Non-Linear constraint)"
      ]
    },
    {
      "cell_type": "code",
      "execution_count": null,
      "metadata": {
        "id": "qdF7eHf5t1bT"
      },
      "outputs": [],
      "source": [
        "# Defining the above constarint in thr form of function\n",
        "def ineq_c(x):\n",
        "    return (x[0]-1)**3 -x[1]+1"
      ]
    },
    {
      "cell_type": "code",
      "execution_count": null,
      "metadata": {
        "id": "BeoEOK4Tt1bU",
        "outputId": "837c477e-4bca-4991-a927-eec95d09eb3a"
      },
      "outputs": [
        {
          "name": "stdout",
          "output_type": "stream",
          "text": [
            "     fun: 0.0\n",
            "     jac: array([-0.,  0.])\n",
            " message: 'Optimization terminated successfully.'\n",
            "    nfev: 1\n",
            "     nit: 1\n",
            "    njev: 1\n",
            "  status: 0\n",
            " success: True\n",
            "       x: array([1., 1.])\n"
          ]
        }
      ],
      "source": [
        "\n",
        "con = {'type': 'ineq', 'fun': ineq_c} # here type implies linear or non linear equation \n",
        "# as we have used non_linear equation hence the value of type will be ineq while for linear it will be eq\n",
        "x0=[1,1]\n",
        "res = so.minimize(rosen_user,x0,method='SLSQP',jac= rosen_der,constraints= con)\n",
        "print (res)"
      ]
    },
    {
      "cell_type": "code",
      "execution_count": null,
      "metadata": {
        "id": "BAlpxZdFt1bV",
        "outputId": "6a9b96b2-9acb-4288-d38d-7ab36c174e00"
      },
      "outputs": [
        {
          "data": {
            "image/png": "[encoded data removed]",
            "text/plain": [
              "<Figure size 432x288 with 1 Axes>"
            ]
          },
          "metadata": {
            "needs_background": "light"
          },
          "output_type": "display_data"
        }
      ],
      "source": [
        "#  plotting our objective function \n",
        "\n",
        "%matplotlib inline\n",
        "import matplotlib.pyplot as plt\n",
        "from mpl_toolkits.mplot3d import Axes3D\n",
        "x = np.arange(-40, 40)\n",
        "y = np.arange(-40, 40)\n",
        "xgrid, ygrid = np.meshgrid(x, y) #it is to create a rectangular grid out of the values for x and Y\n",
        "xy = np.stack([xgrid, ygrid]) #will create a new array by joining the sequence of different arrays of same dimension\n",
        "fig = plt.figure()\n",
        "ax = fig.add_subplot(111, projection='3d')\n",
        "ax.view_init(45, -45)\n",
        "ax.plot_surface(xgrid, ygrid, so.rosen(xy), cmap='terrain')\n",
        "ax.set_xlabel('x')\n",
        "ax.set_ylabel('y')\n",
        "plt.show()\n"
      ]
    },
    {
      "cell_type": "code",
      "source": [
        ""
      ],
      "metadata": {
        "id": "t7YWKxS7-FFx"
      },
      "execution_count": null,
      "outputs": []
    },
    {
      "cell_type": "markdown",
      "metadata": {
        "id": "KmIyCQAlt1bW"
      },
      "source": [
        "## Example 2\n",
        "\n",
        "\n",
        "![derivative](https://github.com/krutika234/BSE__IIT-PATNA_OPTIMIZATION-2021/blob/main/img/problem.png?raw=1)"
      ]
    },
    {
      "cell_type": "code",
      "execution_count": null,
      "metadata": {
        "id": "5yAkod-Ft1bX"
      },
      "outputs": [],
      "source": [
        "import sys\n",
        "import numpy as np\n",
        "d = {1:80, 2:270, 3:250, 4:160, 5:180}  # customer demand\n",
        "M = {1:500, 2:500, 3:500}               # factory capacity\n",
        "I = [1,2,3,4,5]                         # Customers\n",
        "J = [1,2,3]                             # Factories\n",
        "cost = {(1,1):4,    (1,2):6,    (1,3):9,\n",
        "     (2,1):5,    (2,2):4,    (2,3):7,\n",
        "     (3,1):6,    (3,2):3,    (3,3):3,\n",
        "     (4,1):8,    (4,2):5,    (4,3):3,\n",
        "     (5,1):10,   (5,2):8,    (5,3):4\n",
        "   }   "
      ]
    },
    {
      "cell_type": "code",
      "execution_count": null,
      "metadata": {
        "id": "3-4r4dt7t1bX",
        "outputId": "0766c825-041f-4bd7-90e0-7fa17a9a25f5"
      },
      "outputs": [
        {
          "name": "stdout",
          "output_type": "stream",
          "text": [
            "[[ 4.  6.  9.]\n",
            " [ 5.  4.  7.]\n",
            " [ 6.  3.  3.]\n",
            " [ 8.  5.  3.]\n",
            " [10.  8.  4.]]\n"
          ]
        }
      ],
      "source": [
        "# to be used in SciPy we must transform cost dictionary into 2D aray\n",
        "cost2d = np.empty([len(I), len(J)])\n",
        "for i in range(len(I)):\n",
        "    for j in range(len(J)):\n",
        "        cost2d[i,j] = cost[i+1,j+1]\n",
        "\n",
        "print(cost2d)"
      ]
    },
    {
      "cell_type": "code",
      "execution_count": null,
      "metadata": {
        "id": "lakylLnnt1bY",
        "outputId": "3ef531a9-5a84-4733-c06d-d35f08c778f6"
      },
      "outputs": [
        {
          "name": "stdout",
          "output_type": "stream",
          "text": [
            "[(0, 270), (0, 270), (0, 270), (0, 270), (0, 270), (0, 270), (0, 270), (0, 270), (0, 270), (0, 270), (0, 270), (0, 270), (0, 270), (0, 270), (0, 270)]\n"
          ]
        }
      ],
      "source": [
        "x0 = np.ones(len(cost))*100\n",
        "bounds = list((0,max(d.values())) for _ in range(cost2d.size))\n",
        "print(bounds)"
      ]
    },
    {
      "cell_type": "code",
      "execution_count": null,
      "metadata": {
        "id": "4_YGDfLDt1bZ"
      },
      "outputs": [],
      "source": [
        "def objective(x):\n",
        "    obj_func = sum(x[idx]*cost2d[idx//len(J), idx%len(J)] for idx in range(cost2d.size))\n",
        "    return obj_func"
      ]
    },
    {
      "cell_type": "code",
      "execution_count": null,
      "metadata": {
        "id": "eLlnKHg3t1bZ"
      },
      "outputs": [],
      "source": [
        "# Constraints: sum of goods == customer demand\n",
        "def const1():\n",
        "    tmp = []\n",
        "    for idx in range(0, cost2d.size, len(J)):\n",
        "        tmp_constr = {\n",
        "            'type': 'eq',\n",
        "            'fun': lambda x, idx: d[idx//len(J) + 1] - np.sum(x[idx: idx + len(J)]),\n",
        "            'args': (idx,)\n",
        "            }\n",
        "        tmp.append(tmp_constr)\n",
        "    return tmp\n",
        "# Constraints: sum of goods <= factory capacity\n",
        "def const2():\n",
        "    tmp = []\n",
        "    for idx in range(0, cost2d.size, len(I)):\n",
        "        tmp_constr = {\n",
        "            'type': 'ineq',\n",
        "            'fun': lambda x, idx=idx: M[idx//len(I) + 1] - np.sum(x[idx: idx + len(I)])\n",
        "            }\n",
        "        tmp.append(tmp_constr)\n",
        "    return tmp\n",
        "list_of_lists = [const1(), const2()]\n",
        "constraints = [item for sublist in list_of_lists for item in sublist]"
      ]
    },
    {
      "cell_type": "code",
      "execution_count": null,
      "metadata": {
        "id": "O4tc30nct1ba",
        "outputId": "7f7a23f9-c050-43b1-94af-63c468150549"
      },
      "outputs": [
        {
          "name": "stderr",
          "output_type": "stream",
          "text": [
            "C:\\ProgramData\\Anaconda3\\lib\\site-packages\\ipykernel_launcher.py:9: OptimizeWarning: Unknown solver options: full_output, xtol\n",
            "  if __name__ == '__main__':\n"
          ]
        }
      ],
      "source": [
        "from scipy.optimize import minimize\n",
        "solution = minimize(fun = objective,\n",
        "                x0 = x0,\n",
        "                bounds = bounds,\n",
        "                method = 'SLSQP',\n",
        "                constraints = constraints,\n",
        "                tol = None,\n",
        "                callback = None,\n",
        "                options = {'full_output':False, 'disp':False, 'xtol': 1e-8}\n",
        "                )"
      ]
    },
    {
      "cell_type": "code",
      "execution_count": null,
      "metadata": {
        "id": "2dYmcmZ3t1bb",
        "outputId": "040adb94-7c61-494e-dd71-e68c8d04ea07"
      },
      "outputs": [
        {
          "name": "stdout",
          "output_type": "stream",
          "text": [
            "Solution is feasible and optimal\n",
            "Objective function value =  3350.000000005696\n",
            "sending quantity       80.0 from factory   1 to customer   1\n",
            "sending quantity      270.0 from factory   2 to customer   1\n",
            "sending quantity      125.0 from factory   2 to customer   2\n",
            "sending quantity      125.0 from factory   3 to customer   2\n",
            "sending quantity      160.0 from factory   3 to customer   3\n",
            "sending quantity      180.0 from factory   3 to customer   3\n"
          ]
        }
      ],
      "source": [
        "if (solution.success) and (solution.status == 0):\n",
        "    print(\"Solution is feasible and optimal\")\n",
        "    print(\"Objective function value = \", solution.fun)\n",
        "elif solution.status != 0:\n",
        "    print(\"Failed to find solution. Exit code\", solution.status)\n",
        "else:\n",
        "    # something else is wrong\n",
        "    print(solution.message)\n",
        "if solution.success:\n",
        "    EPS = 1.e-6\n",
        "    for i,_ in enumerate(solution.x):\n",
        "        if solution.x[i] > EPS:\n",
        "            print(\"sending quantity %10s from factory %3s to customer %3s\" % (round(solution.x[i]), i%len(J) + 1, i//len(I) + 1))"
      ]
    },
    {
      "cell_type": "code",
      "execution_count": null,
      "metadata": {
        "id": "ZfLU6Ccxt1bb"
      },
      "outputs": [],
      "source": [
        ""
      ]
    }
  ],
  "metadata": {
    "kernelspec": {
      "display_name": "Python 3",
      "language": "python",
      "name": "python3"
    },
    "language_info": {
      "codemirror_mode": {
        "name": "ipython",
        "version": 3
      },
      "file_extension": ".py",
      "mimetype": "text/x-python",
      "name": "python",
      "nbconvert_exporter": "python",
      "pygments_lexer": "ipython3",
      "version": "3.7.1"
    },
    "colab": {
      "name": "optimization_with_scipy .ipynb",
      "provenance": [],
      "include_colab_link": true
    }
  },
  "nbformat": 4,
  "nbformat_minor": 0
}